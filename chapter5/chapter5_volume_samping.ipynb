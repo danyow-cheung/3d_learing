{
  "nbformat": 4,
  "nbformat_minor": 0,
  "metadata": {
    "colab": {
      "provenance": []
    },
    "kernelspec": {
      "name": "python3",
      "display_name": "Python 3"
    },
    "language_info": {
      "name": "python"
    }
  },
  "cells": [
    {
      "cell_type": "code",
      "execution_count": 7,
      "metadata": {
        "colab": {
          "base_uri": "https://localhost:8080/"
        },
        "id": "f5OfOu8f_nis",
        "outputId": "307c3594-16ca-477c-8d6b-eb2f6f98558e"
      },
      "outputs": [
        {
          "output_type": "stream",
          "name": "stdout",
          "text": [
            "Requirement already satisfied: fvcore in /usr/local/lib/python3.10/dist-packages (0.1.5.post20221221)\n",
            "Requirement already satisfied: iopath in /usr/local/lib/python3.10/dist-packages (0.1.10)\n",
            "Requirement already satisfied: numpy in /usr/local/lib/python3.10/dist-packages (from fvcore) (1.23.5)\n",
            "Requirement already satisfied: yacs>=0.1.6 in /usr/local/lib/python3.10/dist-packages (from fvcore) (0.1.8)\n",
            "Requirement already satisfied: pyyaml>=5.1 in /usr/local/lib/python3.10/dist-packages (from fvcore) (6.0.1)\n",
            "Requirement already satisfied: tqdm in /usr/local/lib/python3.10/dist-packages (from fvcore) (4.66.1)\n",
            "Requirement already satisfied: termcolor>=1.1 in /usr/local/lib/python3.10/dist-packages (from fvcore) (2.3.0)\n",
            "Requirement already satisfied: Pillow in /usr/local/lib/python3.10/dist-packages (from fvcore) (9.4.0)\n",
            "Requirement already satisfied: tabulate in /usr/local/lib/python3.10/dist-packages (from fvcore) (0.9.0)\n",
            "Requirement already satisfied: typing-extensions in /usr/local/lib/python3.10/dist-packages (from iopath) (4.5.0)\n",
            "Requirement already satisfied: portalocker in /usr/local/lib/python3.10/dist-packages (from iopath) (2.8.2)\n",
            "Looking in links: https://dl.fbaipublicfiles.com/pytorch3d/packaging/wheels/py310_cu118_pyt201/download.html\n",
            "Requirement already satisfied: pytorch3d in /usr/local/lib/python3.10/dist-packages (0.7.4)\n",
            "Requirement already satisfied: fvcore in /usr/local/lib/python3.10/dist-packages (from pytorch3d) (0.1.5.post20221221)\n",
            "Requirement already satisfied: iopath in /usr/local/lib/python3.10/dist-packages (from pytorch3d) (0.1.10)\n",
            "Requirement already satisfied: numpy in /usr/local/lib/python3.10/dist-packages (from fvcore->pytorch3d) (1.23.5)\n",
            "Requirement already satisfied: yacs>=0.1.6 in /usr/local/lib/python3.10/dist-packages (from fvcore->pytorch3d) (0.1.8)\n",
            "Requirement already satisfied: pyyaml>=5.1 in /usr/local/lib/python3.10/dist-packages (from fvcore->pytorch3d) (6.0.1)\n",
            "Requirement already satisfied: tqdm in /usr/local/lib/python3.10/dist-packages (from fvcore->pytorch3d) (4.66.1)\n",
            "Requirement already satisfied: termcolor>=1.1 in /usr/local/lib/python3.10/dist-packages (from fvcore->pytorch3d) (2.3.0)\n",
            "Requirement already satisfied: Pillow in /usr/local/lib/python3.10/dist-packages (from fvcore->pytorch3d) (9.4.0)\n",
            "Requirement already satisfied: tabulate in /usr/local/lib/python3.10/dist-packages (from fvcore->pytorch3d) (0.9.0)\n",
            "Requirement already satisfied: typing-extensions in /usr/local/lib/python3.10/dist-packages (from iopath->pytorch3d) (4.5.0)\n",
            "Requirement already satisfied: portalocker in /usr/local/lib/python3.10/dist-packages (from iopath->pytorch3d) (2.8.2)\n"
          ]
        }
      ],
      "source": [
        "'''\n",
        "使用colab直接運行下載\n",
        "'''\n",
        "import sys\n",
        "import torch\n",
        "pyt_version_str=torch.__version__.split(\"+\")[0].replace(\".\", \"\")\n",
        "version_str=\"\".join([\n",
        "    f\"py3{sys.version_info.minor}_cu\",\n",
        "    torch.version.cuda.replace(\".\",\"\"),\n",
        "    f\"_pyt{pyt_version_str}\"\n",
        "])\n",
        "!pip install fvcore iopath\n",
        "!pip install --no-index --no-cache-dir pytorch3d -f https://dl.fbaipublicfiles.com/pytorch3d/packaging/wheels/{version_str}/download.html"
      ]
    },
    {
      "cell_type": "code",
      "source": [
        "import torch\n",
        "from pytorch3d.structures import Volumes\n",
        "from pytorch3d.renderer.implicit.renderer import  VolumeSampler\n",
        "if torch.cuda.is_available():\n",
        "    device = torch.device(\"cuda:0\")\n",
        "    torch.cuda.set_device(device)\n",
        "else:\n",
        "    device = torch.device(\"cpu\")"
      ],
      "metadata": {
        "id": "b7E1Tlcj_st7"
      },
      "execution_count": 12,
      "outputs": []
    },
    {
      "cell_type": "markdown",
      "source": [
        "加載ray_bundle"
      ],
      "metadata": {
        "id": "sygK42XWAaVi"
      }
    },
    {
      "cell_type": "code",
      "source": [
        "checkpoint = torch.load('ray_sampling.pt')\n",
        "ray_bundle = checkpoint.get('ray_bundle')"
      ],
      "metadata": {
        "id": "PtMfMFQPAKQK"
      },
      "execution_count": 13,
      "outputs": []
    },
    {
      "cell_type": "markdown",
      "source": [
        "We then define a volume. The densities tensor has a shape of [10, 1, 64, 64, 50], where we have a batch of 10 volumes, and each volume is a grid of 64x64x50 nodes. Each node has one number to represent the density at the node. On the other hand, the colors tensor has a shape of [10, 3, 64, 64, 50], because each color needs three numbers to represent the RGB values:\n",
        "\n",
        "然後我們定義一個體積。 密度張量的形狀為 [10, 1, 64, 64, 50]，其中我們有一批 10 個卷，每個卷是 64x64x50 節點的網格。 每個節點都有一個數字來表示該節點的密度。 另一方面，顏色張量的形狀為 [10, 3, 64, 64, 50]，因為每種顏色需要三個數字來表示 RGB 值：\n"
      ],
      "metadata": {
        "id": "XOD6NVDBAnCX"
      }
    },
    {
      "cell_type": "code",
      "source": [
        "batch_size = 10\n",
        "densities = torch.zeros([batch_size,1,64,64,64]).to(device)\n",
        "colors = torch.zeros(batch_size,3,64,64,64).to(device)\n",
        "voxel_size = 0.1\n",
        "\n",
        "volumes = Volumes(\n",
        "    densities = densities,\n",
        "    features= colors,\n",
        "    voxel_size=voxel_size\n",
        ")"
      ],
      "metadata": {
        "id": "dHqcVlSzAhS7"
      },
      "execution_count": 15,
      "outputs": []
    },
    {
      "cell_type": "markdown",
      "source": [
        "我們需要根據體積定義volume_sampler。 在這裡，我們使用雙線性插值進行體積採樣。 然後可以透過將 ray_bundle 傳遞給volume_sampler 輕鬆獲得光線上點的密度和顏色："
      ],
      "metadata": {
        "id": "vhe6cYm0BM4e"
      }
    },
    {
      "cell_type": "code",
      "source": [
        "volume_sampler = VolumeSampler(volumes=volumes,sample_mode='bilinear')\n",
        "rays_densities,rays_features = volume_sampler(ray_bundle)\n",
        "print('rays_densities shape = ',rays_densities.shape)\n",
        "print('rays_features shape = ',rays_features.shape)"
      ],
      "metadata": {
        "colab": {
          "base_uri": "https://localhost:8080/"
        },
        "id": "xQw_SqtxA9Au",
        "outputId": "f3c916bc-d94a-45fe-a291-36a478a9ff20"
      },
      "execution_count": 16,
      "outputs": [
        {
          "output_type": "stream",
          "name": "stdout",
          "text": [
            "rays_densities shape =  torch.Size([10, 64, 64, 50, 1])\n",
            "rays_features shape =  torch.Size([10, 64, 64, 50, 3])\n"
          ]
        }
      ]
    },
    {
      "cell_type": "markdown",
      "source": [
        "8. Finally, let us save the densities and colors because we need to use them in the next section:"
      ],
      "metadata": {
        "id": "lVINaCTqEuuf"
      }
    },
    {
      "cell_type": "code",
      "source": [
        "torch.save({'rays_densities':rays_densities,\n",
        "            'rays_features':rays_features},'volume_sampling.pt')"
      ],
      "metadata": {
        "id": "-d9R_U_REiHS"
      },
      "execution_count": 17,
      "outputs": []
    },
    {
      "cell_type": "code",
      "source": [],
      "metadata": {
        "id": "aCGYxaXFE6S4"
      },
      "execution_count": null,
      "outputs": []
    }
  ]
}